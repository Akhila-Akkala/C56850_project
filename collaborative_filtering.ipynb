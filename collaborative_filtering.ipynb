{
  "nbformat": 4,
  "nbformat_minor": 0,
  "metadata": {
    "colab": {
      "provenance": []
    },
    "kernelspec": {
      "name": "python3",
      "display_name": "Python 3"
    },
    "language_info": {
      "name": "python"
    }
  },
  "cells": [
    {
      "cell_type": "code",
      "execution_count": 1,
      "metadata": {
        "colab": {
          "base_uri": "https://localhost:8080/"
        },
        "id": "C2J5yP4B61gX",
        "outputId": "1bdb196c-4845-45a9-ff0c-acb765265b07"
      },
      "outputs": [
        {
          "output_type": "stream",
          "name": "stdout",
          "text": [
            "Mounted at /content/drive\n"
          ]
        }
      ],
      "source": [
        "import numpy as np\n",
        "import pandas as pd\n",
        "from google.colab import drive\n",
        "drive.mount('/content/drive')"
      ]
    },
    {
      "cell_type": "code",
      "source": [
        "df_a = pd.read_csv('/content/drive/MyDrive/articles.csv')\n",
        "row,col=df_a.shape\n",
        "print(f\"rows:{row} columns:{col}\")"
      ],
      "metadata": {
        "colab": {
          "base_uri": "https://localhost:8080/"
        },
        "id": "bhJHoP0C64Mw",
        "outputId": "bf6a7e72-f8b5-4096-d3c1-77c7af121be9"
      },
      "execution_count": 2,
      "outputs": [
        {
          "output_type": "stream",
          "name": "stdout",
          "text": [
            "rows:105542 columns:25\n"
          ]
        }
      ]
    },
    {
      "cell_type": "code",
      "source": [
        "df_c = pd.read_csv('/content/drive/MyDrive/customers.csv')\n",
        "row,col=df_c.shape\n",
        "print(f\"rows:{row} columns:{col}\")"
      ],
      "metadata": {
        "colab": {
          "base_uri": "https://localhost:8080/"
        },
        "id": "aQEqV90J7AUg",
        "outputId": "a23de6e2-f9df-4e11-a6d3-81ce25d97b38"
      },
      "execution_count": 3,
      "outputs": [
        {
          "output_type": "stream",
          "name": "stdout",
          "text": [
            "rows:1371980 columns:7\n"
          ]
        }
      ]
    },
    {
      "cell_type": "code",
      "source": [
        "# df_ss=pd.read_csv('/content/drive/MyDrive/sample_submission.csv')\n",
        "# row,col=df_ss.shape\n",
        "# print(f\"rows:{row} columns:{col}\")"
      ],
      "metadata": {
        "id": "PHakvcud7DHR"
      },
      "execution_count": null,
      "outputs": []
    },
    {
      "cell_type": "code",
      "source": [
        "df_train=pd.read_csv('/content/drive/MyDrive/transactions_train.csv')\n",
        "row,col=df_train.shape\n",
        "print(f\"rows:{row} columns:{col}\")"
      ],
      "metadata": {
        "colab": {
          "base_uri": "https://localhost:8080/"
        },
        "id": "T3kV42lk7FkQ",
        "outputId": "ff9b0d2e-c7c9-4c30-f77b-879164c8c5c0"
      },
      "execution_count": 4,
      "outputs": [
        {
          "output_type": "stream",
          "name": "stdout",
          "text": [
            "rows:31788324 columns:5\n"
          ]
        }
      ]
    },
    {
      "cell_type": "code",
      "source": [
        "import pandas as pd\n",
        "df_tt=df_train.head(5000)\n",
        "\n",
        "\n",
        "# Group customer_id and aggregate article_id\n",
        "grouped = df_tt.groupby('customer_id')['article_id'].agg(list).reset_index()\n",
        "\n",
        "result_data = []\n",
        "\n",
        "# Find shared articles\n",
        "for index, row in grouped.iterrows():\n",
        "    customer_id = row['customer_id']\n",
        "    articles = row['article_id']\n",
        "\n",
        "    shared_articles = []\n",
        "    for other_index, other_row in grouped.iterrows():\n",
        "        if other_row['customer_id'] != customer_id:\n",
        "            shared = set(articles).intersection(other_row['article_id'])\n",
        "            if len(shared) > 0:\n",
        "                shared_articles.extend(list(shared))\n",
        "\n",
        "    result_data.append({'customer_id': customer_id, 'prediction': shared_articles})\n",
        "result_df = pd.DataFrame(result_data)\n",
        "\n",
        "# Submission\n",
        "print(result_df)\n",
        "file = open('submission.csv', 'w')\n",
        "file.write(str(result_df))\n",
        "file.close()"
      ],
      "metadata": {
        "colab": {
          "base_uri": "https://localhost:8080/"
        },
        "id": "biqJE0697KHm",
        "outputId": "91041c86-0bf4-4e00-bcd8-0fdf678e4adc"
      },
      "execution_count": 5,
      "outputs": [
        {
          "output_type": "stream",
          "name": "stdout",
          "text": [
            "                                            customer_id  \\\n",
            "0     000058a12d5b43e67d225668fa1f8d618c13dc232df0ca...   \n",
            "1     00007d2de826758b65a93dd24ce629ed66842531df6699...   \n",
            "2     00083cda041544b2fbb0e0d2905ad17da7cf1007526fb4...   \n",
            "3     0008968c0d451dbc5a9968da03196fe20051965edde741...   \n",
            "4     000aa7f0dc06cd7174389e76c9e132a67860c5f65f9706...   \n",
            "...                                                 ...   \n",
            "1479  1bd5fd0b45efe91387bcecc3e664a5627e18b0f6edc330...   \n",
            "1480  1bd833fe475d7bb58ce52abdffcfada0a65bcd8375eb2e...   \n",
            "1481  1bdd19c7640df940aa0a5856ba8d0d6e3d2280b838c4ba...   \n",
            "1482  1bdec165ff71bb0b8c7d6bc2a06b6778f7ef840df5dfc8...   \n",
            "1483  1be95d6d39e8e51e7c1467cde795fc4e81ea444e7b9a93...   \n",
            "\n",
            "                                             prediction  \n",
            "0          [541518023, 541518023, 541518023, 541518023]  \n",
            "1     [685687004, 685687001, 685687004, 685687004, 6...  \n",
            "2     [688873012, 688873012, 688873012, 688873020, 6...  \n",
            "3                                                    []  \n",
            "4     [692454002, 685687002, 692454002, 680187001, 6...  \n",
            "...                                                 ...  \n",
            "1479                                                 []  \n",
            "1480                                                 []  \n",
            "1481                  [355569001, 355569001, 355569001]  \n",
            "1482                  [555326010, 555326010, 555326010]  \n",
            "1483                                                 []  \n",
            "\n",
            "[1484 rows x 2 columns]\n"
          ]
        }
      ]
    },
    {
      "cell_type": "code",
      "source": [],
      "metadata": {
        "id": "_R-RJuQ2GuSI"
      },
      "execution_count": null,
      "outputs": []
    }
  ]
}